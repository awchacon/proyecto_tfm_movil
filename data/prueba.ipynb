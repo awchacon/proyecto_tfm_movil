{
 "cells": [
  {
   "cell_type": "code",
   "execution_count": 1,
   "metadata": {},
   "outputs": [],
   "source": [
    "import pandas as pd\n",
    "import matplotlib.pyplot as plt\n",
    "import numpy as np"
   ]
  },
  {
   "cell_type": "code",
   "execution_count": 2,
   "metadata": {},
   "outputs": [
    {
     "data": {
      "text/html": [
       "<div>\n",
       "<style scoped>\n",
       "    .dataframe tbody tr th:only-of-type {\n",
       "        vertical-align: middle;\n",
       "    }\n",
       "\n",
       "    .dataframe tbody tr th {\n",
       "        vertical-align: top;\n",
       "    }\n",
       "\n",
       "    .dataframe thead th {\n",
       "        text-align: right;\n",
       "    }\n",
       "</style>\n",
       "<table border=\"1\" class=\"dataframe\">\n",
       "  <thead>\n",
       "    <tr style=\"text-align: right;\">\n",
       "      <th></th>\n",
       "      <th>Marca</th>\n",
       "      <th>Modelo</th>\n",
       "      <th>Precio</th>\n",
       "      <th>Año</th>\n",
       "      <th>Combustible</th>\n",
       "      <th>Distintivo</th>\n",
       "      <th>Carrocería</th>\n",
       "      <th>Kilómetros</th>\n",
       "      <th>Cambio</th>\n",
       "      <th>Potencia</th>\n",
       "      <th>Extra</th>\n",
       "      <th>Mes</th>\n",
       "      <th>Serie</th>\n",
       "      <th>Imagen</th>\n",
       "      <th>Codigo</th>\n",
       "    </tr>\n",
       "  </thead>\n",
       "  <tbody>\n",
       "    <tr>\n",
       "      <th>0</th>\n",
       "      <td>AUDI</td>\n",
       "      <td>AUDI A1 Sportback 1.4 TFSI Adrenalin S-T 92kW</td>\n",
       "      <td>20800</td>\n",
       "      <td>2018</td>\n",
       "      <td>Gasolina</td>\n",
       "      <td>C</td>\n",
       "      <td>Berlina</td>\n",
       "      <td>27598</td>\n",
       "      <td>Automático</td>\n",
       "      <td>125</td>\n",
       "      <td>- ABS, - Acabados de lujo: pomo de la palanca ...</td>\n",
       "      <td>8</td>\n",
       "      <td>A1</td>\n",
       "      <td>https://images0.autocasion.com/unsafe/820x461/...</td>\n",
       "      <td>1</td>\n",
       "    </tr>\n",
       "    <tr>\n",
       "      <th>1</th>\n",
       "      <td>AUDI</td>\n",
       "      <td>AUDI A1 Sportback 25 TFSI Black line</td>\n",
       "      <td>18950</td>\n",
       "      <td>2020</td>\n",
       "      <td>Gasolina</td>\n",
       "      <td>C</td>\n",
       "      <td>Berlina</td>\n",
       "      <td>68200</td>\n",
       "      <td>Manual</td>\n",
       "      <td>95</td>\n",
       "      <td>Sin extras</td>\n",
       "      <td>1</td>\n",
       "      <td>A1</td>\n",
       "      <td>https://images0.autocasion.com/unsafe/820x461/...</td>\n",
       "      <td>1</td>\n",
       "    </tr>\n",
       "    <tr>\n",
       "      <th>2</th>\n",
       "      <td>AUDI</td>\n",
       "      <td>AUDI A1 Sportback 25 TFSI Adrenalin</td>\n",
       "      <td>22300</td>\n",
       "      <td>2022</td>\n",
       "      <td>Gasolina</td>\n",
       "      <td>C</td>\n",
       "      <td>Berlina</td>\n",
       "      <td>32478</td>\n",
       "      <td>Manual</td>\n",
       "      <td>95</td>\n",
       "      <td>- Tracción delantera, - Retrovisor interior, -...</td>\n",
       "      <td>6</td>\n",
       "      <td>A1</td>\n",
       "      <td>https://images0.autocasion.com/unsafe/820x461/...</td>\n",
       "      <td>1</td>\n",
       "    </tr>\n",
       "    <tr>\n",
       "      <th>3</th>\n",
       "      <td>AUDI</td>\n",
       "      <td>AUDI A1 Sportback 30 TFSI Adrenalin</td>\n",
       "      <td>24500</td>\n",
       "      <td>2022</td>\n",
       "      <td>Gasolina</td>\n",
       "      <td>C</td>\n",
       "      <td>Berlina</td>\n",
       "      <td>23718</td>\n",
       "      <td>Manual</td>\n",
       "      <td>110</td>\n",
       "      <td>- Tracción delantera, - Retrovisor interior, -...</td>\n",
       "      <td>12</td>\n",
       "      <td>A1</td>\n",
       "      <td>https://images0.autocasion.com/unsafe/820x461/...</td>\n",
       "      <td>1</td>\n",
       "    </tr>\n",
       "    <tr>\n",
       "      <th>4</th>\n",
       "      <td>AUDI</td>\n",
       "      <td>AUDI A1 Sportback 25 TFSI Advanced</td>\n",
       "      <td>23300</td>\n",
       "      <td>2023</td>\n",
       "      <td>Gasolina</td>\n",
       "      <td>C</td>\n",
       "      <td>Berlina</td>\n",
       "      <td>10350</td>\n",
       "      <td>Manual</td>\n",
       "      <td>95</td>\n",
       "      <td>- Tracción delantera, - Retrovisor interior, -...</td>\n",
       "      <td>2</td>\n",
       "      <td>A1</td>\n",
       "      <td>https://images0.autocasion.com/unsafe/820x461/...</td>\n",
       "      <td>1</td>\n",
       "    </tr>\n",
       "  </tbody>\n",
       "</table>\n",
       "</div>"
      ],
      "text/plain": [
       "  Marca                                         Modelo  Precio   Año  \\\n",
       "0  AUDI  AUDI A1 Sportback 1.4 TFSI Adrenalin S-T 92kW   20800  2018   \n",
       "1  AUDI           AUDI A1 Sportback 25 TFSI Black line   18950  2020   \n",
       "2  AUDI            AUDI A1 Sportback 25 TFSI Adrenalin   22300  2022   \n",
       "3  AUDI            AUDI A1 Sportback 30 TFSI Adrenalin   24500  2022   \n",
       "4  AUDI             AUDI A1 Sportback 25 TFSI Advanced   23300  2023   \n",
       "\n",
       "  Combustible Distintivo Carrocería  Kilómetros      Cambio  Potencia  \\\n",
       "0    Gasolina          C    Berlina       27598  Automático       125   \n",
       "1    Gasolina          C    Berlina       68200      Manual        95   \n",
       "2    Gasolina          C    Berlina       32478      Manual        95   \n",
       "3    Gasolina          C    Berlina       23718      Manual       110   \n",
       "4    Gasolina          C    Berlina       10350      Manual        95   \n",
       "\n",
       "                                               Extra  Mes Serie  \\\n",
       "0  - ABS, - Acabados de lujo: pomo de la palanca ...    8    A1   \n",
       "1                                         Sin extras    1    A1   \n",
       "2  - Tracción delantera, - Retrovisor interior, -...    6    A1   \n",
       "3  - Tracción delantera, - Retrovisor interior, -...   12    A1   \n",
       "4  - Tracción delantera, - Retrovisor interior, -...    2    A1   \n",
       "\n",
       "                                              Imagen  Codigo  \n",
       "0  https://images0.autocasion.com/unsafe/820x461/...       1  \n",
       "1  https://images0.autocasion.com/unsafe/820x461/...       1  \n",
       "2  https://images0.autocasion.com/unsafe/820x461/...       1  \n",
       "3  https://images0.autocasion.com/unsafe/820x461/...       1  \n",
       "4  https://images0.autocasion.com/unsafe/820x461/...       1  "
      ]
     },
     "execution_count": 2,
     "metadata": {},
     "output_type": "execute_result"
    }
   ],
   "source": [
    "df = pd.read_csv('C:/Universidad/Trabajo_final/data/bd_final.csv', sep=',', encoding='utf-8', engine='python')\n",
    "df.head()"
   ]
  },
  {
   "cell_type": "code",
   "execution_count": 3,
   "metadata": {},
   "outputs": [
    {
     "data": {
      "text/plain": [
       "Marca          object\n",
       "Modelo         object\n",
       "Precio          int64\n",
       "Año             int64\n",
       "Combustible    object\n",
       "Distintivo     object\n",
       "Carrocería     object\n",
       "Kilómetros      int64\n",
       "Cambio         object\n",
       "Potencia        int64\n",
       "Extra          object\n",
       "Mes             int64\n",
       "Serie          object\n",
       "Imagen         object\n",
       "Codigo          int64\n",
       "dtype: object"
      ]
     },
     "execution_count": 3,
     "metadata": {},
     "output_type": "execute_result"
    }
   ],
   "source": [
    "df.dtypes"
   ]
  },
  {
   "cell_type": "code",
   "execution_count": 4,
   "metadata": {},
   "outputs": [
    {
     "data": {
      "text/plain": [
       "Cambio\n",
       "Manual        8571\n",
       "Automático    7832\n",
       "Name: count, dtype: int64"
      ]
     },
     "execution_count": 4,
     "metadata": {},
     "output_type": "execute_result"
    }
   ],
   "source": [
    "df[\"Cambio\"].value_counts()"
   ]
  },
  {
   "cell_type": "code",
   "execution_count": 5,
   "metadata": {},
   "outputs": [
    {
     "data": {
      "text/plain": [
       "Carrocería\n",
       "Berlina         9021\n",
       "Todo Terreno    4599\n",
       "Stationwagon    1373\n",
       "Monovolumen     1043\n",
       "Coupe            324\n",
       "Convertible       43\n",
       "Name: count, dtype: int64"
      ]
     },
     "execution_count": 5,
     "metadata": {},
     "output_type": "execute_result"
    }
   ],
   "source": [
    "df[\"Carrocería\"].value_counts()"
   ]
  },
  {
   "cell_type": "code",
   "execution_count": 6,
   "metadata": {},
   "outputs": [
    {
     "data": {
      "text/plain": [
       "array([ 1,  2,  3,  4,  5,  6,  7,  8,  9, 10, 11, 12], dtype=int64)"
      ]
     },
     "execution_count": 6,
     "metadata": {},
     "output_type": "execute_result"
    }
   ],
   "source": [
    "df['Mes'].sort_values(ascending=True).unique()"
   ]
  },
  {
   "cell_type": "code",
   "execution_count": 7,
   "metadata": {},
   "outputs": [
    {
     "data": {
      "text/plain": [
       "Distintivo\n",
       "C              11848\n",
       "ECO             3416\n",
       "B                669\n",
       "0 EMISIONES      470\n",
       "Name: count, dtype: int64"
      ]
     },
     "execution_count": 7,
     "metadata": {},
     "output_type": "execute_result"
    }
   ],
   "source": [
    "df[\"Distintivo\"].value_counts()"
   ]
  },
  {
   "cell_type": "code",
   "execution_count": 8,
   "metadata": {},
   "outputs": [
    {
     "data": {
      "text/plain": [
       "Carrocería\n",
       "Berlina         9021\n",
       "Todo Terreno    4599\n",
       "Stationwagon    1373\n",
       "Monovolumen     1043\n",
       "Coupe            324\n",
       "Convertible       43\n",
       "Name: count, dtype: int64"
      ]
     },
     "execution_count": 8,
     "metadata": {},
     "output_type": "execute_result"
    }
   ],
   "source": [
    "df[\"Carrocería\"].value_counts()"
   ]
  },
  {
   "cell_type": "code",
   "execution_count": 9,
   "metadata": {},
   "outputs": [
    {
     "data": {
      "text/plain": [
       "Serie\n",
       "C4         1387\n",
       "208        1117\n",
       "308        1044\n",
       "C3         1039\n",
       "S1          868\n",
       "Corolla     810\n",
       "A4          704\n",
       "Tucson      671\n",
       "A1          598\n",
       "C-HR        596\n",
       "S3          577\n",
       "Yaris       565\n",
       "León        562\n",
       "Q2          544\n",
       "3008        507\n",
       "X3          506\n",
       "Q5          452\n",
       "RAV-4       435\n",
       "C5          421\n",
       "7           382\n",
       "i20         380\n",
       "i30         346\n",
       "Ibiza       343\n",
       "Cactus      338\n",
       "A6          335\n",
       "Arona       272\n",
       "Ateca       257\n",
       "Q8          130\n",
       "A7           95\n",
       "A8           63\n",
       "TT           59\n",
       "Name: count, dtype: int64"
      ]
     },
     "execution_count": 9,
     "metadata": {},
     "output_type": "execute_result"
    }
   ],
   "source": [
    "df[\"Serie\"].value_counts()"
   ]
  },
  {
   "cell_type": "code",
   "execution_count": 10,
   "metadata": {},
   "outputs": [
    {
     "data": {
      "text/plain": [
       "array(['208', '3008', '308', '7', 'A1', 'A4', 'A6', 'A7', 'A8', 'Arona',\n",
       "       'Ateca', 'C-HR', 'C3', 'C4', 'C5', 'Cactus', 'Corolla', 'Ibiza',\n",
       "       'León', 'Q2', 'Q5', 'Q8', 'RAV-4', 'S1', 'S3', 'TT', 'Tucson',\n",
       "       'X3', 'Yaris', 'i20', 'i30'], dtype=object)"
      ]
     },
     "execution_count": 10,
     "metadata": {},
     "output_type": "execute_result"
    }
   ],
   "source": [
    "df['Serie'].sort_values(ascending=True).unique()"
   ]
  },
  {
   "cell_type": "code",
   "execution_count": 11,
   "metadata": {},
   "outputs": [
    {
     "data": {
      "text/plain": [
       "array(['Automático', 'Manual'], dtype=object)"
      ]
     },
     "execution_count": 11,
     "metadata": {},
     "output_type": "execute_result"
    }
   ],
   "source": [
    "df['Cambio'].unique()"
   ]
  },
  {
   "cell_type": "code",
   "execution_count": 12,
   "metadata": {},
   "outputs": [
    {
     "data": {
      "text/plain": [
       "array(['Berlina', 'Coupe', 'Todo Terreno', 'Stationwagon', 'Convertible',\n",
       "       'Monovolumen'], dtype=object)"
      ]
     },
     "execution_count": 12,
     "metadata": {},
     "output_type": "execute_result"
    }
   ],
   "source": [
    "df['Carrocería'].unique()"
   ]
  },
  {
   "cell_type": "code",
   "execution_count": 13,
   "metadata": {},
   "outputs": [],
   "source": [
    "Marca_Cambio = (\n",
    "        df.groupby('Cambio')['Marca'].value_counts().groupby(level=0, group_keys=False).nlargest(5).reset_index(name='count')\n",
    "        )"
   ]
  },
  {
   "cell_type": "code",
   "execution_count": 14,
   "metadata": {},
   "outputs": [
    {
     "data": {
      "text/html": [
       "<div>\n",
       "<style scoped>\n",
       "    .dataframe tbody tr th:only-of-type {\n",
       "        vertical-align: middle;\n",
       "    }\n",
       "\n",
       "    .dataframe tbody tr th {\n",
       "        vertical-align: top;\n",
       "    }\n",
       "\n",
       "    .dataframe thead th {\n",
       "        text-align: right;\n",
       "    }\n",
       "</style>\n",
       "<table border=\"1\" class=\"dataframe\">\n",
       "  <thead>\n",
       "    <tr style=\"text-align: right;\">\n",
       "      <th></th>\n",
       "      <th>Cambio</th>\n",
       "      <th>Marca</th>\n",
       "      <th>count</th>\n",
       "    </tr>\n",
       "  </thead>\n",
       "  <tbody>\n",
       "    <tr>\n",
       "      <th>0</th>\n",
       "      <td>Automático</td>\n",
       "      <td>AUDI</td>\n",
       "      <td>2084</td>\n",
       "    </tr>\n",
       "    <tr>\n",
       "      <th>1</th>\n",
       "      <td>Automático</td>\n",
       "      <td>TOYOTA</td>\n",
       "      <td>2033</td>\n",
       "    </tr>\n",
       "    <tr>\n",
       "      <th>2</th>\n",
       "      <td>Automático</td>\n",
       "      <td>BMW</td>\n",
       "      <td>1417</td>\n",
       "    </tr>\n",
       "    <tr>\n",
       "      <th>3</th>\n",
       "      <td>Automático</td>\n",
       "      <td>PEUGEOT</td>\n",
       "      <td>893</td>\n",
       "    </tr>\n",
       "    <tr>\n",
       "      <th>4</th>\n",
       "      <td>Automático</td>\n",
       "      <td>CITROEN</td>\n",
       "      <td>802</td>\n",
       "    </tr>\n",
       "    <tr>\n",
       "      <th>5</th>\n",
       "      <td>Manual</td>\n",
       "      <td>CITROEN</td>\n",
       "      <td>2383</td>\n",
       "    </tr>\n",
       "    <tr>\n",
       "      <th>6</th>\n",
       "      <td>Manual</td>\n",
       "      <td>PEUGEOT</td>\n",
       "      <td>2157</td>\n",
       "    </tr>\n",
       "    <tr>\n",
       "      <th>7</th>\n",
       "      <td>Manual</td>\n",
       "      <td>HYUNDAI</td>\n",
       "      <td>1203</td>\n",
       "    </tr>\n",
       "    <tr>\n",
       "      <th>8</th>\n",
       "      <td>Manual</td>\n",
       "      <td>SEAT</td>\n",
       "      <td>1025</td>\n",
       "    </tr>\n",
       "    <tr>\n",
       "      <th>9</th>\n",
       "      <td>Manual</td>\n",
       "      <td>AUDI</td>\n",
       "      <td>896</td>\n",
       "    </tr>\n",
       "  </tbody>\n",
       "</table>\n",
       "</div>"
      ],
      "text/plain": [
       "       Cambio    Marca  count\n",
       "0  Automático     AUDI   2084\n",
       "1  Automático   TOYOTA   2033\n",
       "2  Automático      BMW   1417\n",
       "3  Automático  PEUGEOT    893\n",
       "4  Automático  CITROEN    802\n",
       "5      Manual  CITROEN   2383\n",
       "6      Manual  PEUGEOT   2157\n",
       "7      Manual  HYUNDAI   1203\n",
       "8      Manual     SEAT   1025\n",
       "9      Manual     AUDI    896"
      ]
     },
     "execution_count": 14,
     "metadata": {},
     "output_type": "execute_result"
    }
   ],
   "source": [
    "Marca_Cambio"
   ]
  },
  {
   "cell_type": "code",
   "execution_count": 15,
   "metadata": {},
   "outputs": [
    {
     "data": {
      "text/plain": [
       "Marca         \n",
       "AUDI     2899     209900\n",
       "         1501     193900\n",
       "         2819     192900\n",
       "         1309     189900\n",
       "         1380     186900\n",
       "BMW      4125     189900\n",
       "         4133     179900\n",
       "         3906     176900\n",
       "         4106     176900\n",
       "         4155     154990\n",
       "CITROEN  7885      44294\n",
       "         7912      44294\n",
       "         7880      43300\n",
       "         8053      43300\n",
       "         7889      42897\n",
       "HYUNDAI  13346     46300\n",
       "         13350     46300\n",
       "         12673     43900\n",
       "         12864     43900\n",
       "         12424     42990\n",
       "PEUGEOT  16386     45850\n",
       "         15643     45500\n",
       "         15539     44785\n",
       "         16003     44100\n",
       "         14654     42900\n",
       "SEAT     9130      32990\n",
       "         8472      32890\n",
       "         8544      32890\n",
       "         8617      31990\n",
       "         9144      31990\n",
       "TOYOTA   10171    194900\n",
       "         11277     60639\n",
       "         11229     57871\n",
       "         11221     56864\n",
       "         11244     54725\n",
       "Name: Precio, dtype: int64"
      ]
     },
     "execution_count": 15,
     "metadata": {},
     "output_type": "execute_result"
    }
   ],
   "source": [
    "count_tipo_marca_precio = round(df.groupby('Marca')['Precio'].nlargest(5), 2)\n",
    "count_tipo_marca_precio"
   ]
  },
  {
   "cell_type": "code",
   "execution_count": 16,
   "metadata": {},
   "outputs": [
    {
     "data": {
      "text/plain": [
       "Carrocería\n",
       "Convertible     132552.953488\n",
       "Monovolumen      94332.314477\n",
       "Stationwagon     87624.012382\n",
       "Coupe            83735.987654\n",
       "Berlina          65778.185456\n",
       "Name: Kilómetros, dtype: float64"
      ]
     },
     "execution_count": 16,
     "metadata": {},
     "output_type": "execute_result"
    }
   ],
   "source": [
    "Carrocerias_kilometros = df.groupby('Carrocería')['Kilómetros'].mean().nlargest(5)\n",
    "Carrocerias_kilometros"
   ]
  },
  {
   "cell_type": "code",
   "execution_count": 17,
   "metadata": {},
   "outputs": [
    {
     "data": {
      "text/plain": [
       "array(['Berlina', 'Coupe', 'Todo Terreno', 'Stationwagon', 'Convertible',\n",
       "       'Monovolumen'], dtype=object)"
      ]
     },
     "execution_count": 17,
     "metadata": {},
     "output_type": "execute_result"
    }
   ],
   "source": [
    "df_carroceria_unique = df['Carrocería'].unique()\n",
    "df_carroceria_unique"
   ]
  },
  {
   "cell_type": "code",
   "execution_count": 18,
   "metadata": {},
   "outputs": [
    {
     "data": {
      "application/vnd.plotly.v1+json": {
       "config": {
        "plotlyServerURL": "https://plot.ly"
       },
       "data": [
        {
         "hovertemplate": "Carrocería=%{x}<br>Kilómetros=%{y}<extra></extra>",
         "legendgroup": "",
         "line": {
          "color": "#636efa",
          "dash": "solid"
         },
         "marker": {
          "symbol": "circle"
         },
         "mode": "lines",
         "name": "",
         "orientation": "h",
         "showlegend": false,
         "type": "scatter",
         "x": [
          "Convertible",
          "Monovolumen",
          "Stationwagon",
          "Coupe",
          "Berlina"
         ],
         "xaxis": "x",
         "y": [
          132552.9534883721,
          94332.31447746884,
          87624.01238164603,
          83735.98765432098,
          65778.18545615785
         ],
         "yaxis": "y"
        }
       ],
       "layout": {
        "legend": {
         "tracegroupgap": 0
        },
        "plot_bgcolor": "rgba(0,0,0,0)",
        "template": {
         "data": {
          "bar": [
           {
            "error_x": {
             "color": "#2a3f5f"
            },
            "error_y": {
             "color": "#2a3f5f"
            },
            "marker": {
             "line": {
              "color": "white",
              "width": 0.5
             },
             "pattern": {
              "fillmode": "overlay",
              "size": 10,
              "solidity": 0.2
             }
            },
            "type": "bar"
           }
          ],
          "barpolar": [
           {
            "marker": {
             "line": {
              "color": "white",
              "width": 0.5
             },
             "pattern": {
              "fillmode": "overlay",
              "size": 10,
              "solidity": 0.2
             }
            },
            "type": "barpolar"
           }
          ],
          "carpet": [
           {
            "aaxis": {
             "endlinecolor": "#2a3f5f",
             "gridcolor": "#C8D4E3",
             "linecolor": "#C8D4E3",
             "minorgridcolor": "#C8D4E3",
             "startlinecolor": "#2a3f5f"
            },
            "baxis": {
             "endlinecolor": "#2a3f5f",
             "gridcolor": "#C8D4E3",
             "linecolor": "#C8D4E3",
             "minorgridcolor": "#C8D4E3",
             "startlinecolor": "#2a3f5f"
            },
            "type": "carpet"
           }
          ],
          "choropleth": [
           {
            "colorbar": {
             "outlinewidth": 0,
             "ticks": ""
            },
            "type": "choropleth"
           }
          ],
          "contour": [
           {
            "colorbar": {
             "outlinewidth": 0,
             "ticks": ""
            },
            "colorscale": [
             [
              0,
              "#0d0887"
             ],
             [
              0.1111111111111111,
              "#46039f"
             ],
             [
              0.2222222222222222,
              "#7201a8"
             ],
             [
              0.3333333333333333,
              "#9c179e"
             ],
             [
              0.4444444444444444,
              "#bd3786"
             ],
             [
              0.5555555555555556,
              "#d8576b"
             ],
             [
              0.6666666666666666,
              "#ed7953"
             ],
             [
              0.7777777777777778,
              "#fb9f3a"
             ],
             [
              0.8888888888888888,
              "#fdca26"
             ],
             [
              1,
              "#f0f921"
             ]
            ],
            "type": "contour"
           }
          ],
          "contourcarpet": [
           {
            "colorbar": {
             "outlinewidth": 0,
             "ticks": ""
            },
            "type": "contourcarpet"
           }
          ],
          "heatmap": [
           {
            "colorbar": {
             "outlinewidth": 0,
             "ticks": ""
            },
            "colorscale": [
             [
              0,
              "#0d0887"
             ],
             [
              0.1111111111111111,
              "#46039f"
             ],
             [
              0.2222222222222222,
              "#7201a8"
             ],
             [
              0.3333333333333333,
              "#9c179e"
             ],
             [
              0.4444444444444444,
              "#bd3786"
             ],
             [
              0.5555555555555556,
              "#d8576b"
             ],
             [
              0.6666666666666666,
              "#ed7953"
             ],
             [
              0.7777777777777778,
              "#fb9f3a"
             ],
             [
              0.8888888888888888,
              "#fdca26"
             ],
             [
              1,
              "#f0f921"
             ]
            ],
            "type": "heatmap"
           }
          ],
          "heatmapgl": [
           {
            "colorbar": {
             "outlinewidth": 0,
             "ticks": ""
            },
            "colorscale": [
             [
              0,
              "#0d0887"
             ],
             [
              0.1111111111111111,
              "#46039f"
             ],
             [
              0.2222222222222222,
              "#7201a8"
             ],
             [
              0.3333333333333333,
              "#9c179e"
             ],
             [
              0.4444444444444444,
              "#bd3786"
             ],
             [
              0.5555555555555556,
              "#d8576b"
             ],
             [
              0.6666666666666666,
              "#ed7953"
             ],
             [
              0.7777777777777778,
              "#fb9f3a"
             ],
             [
              0.8888888888888888,
              "#fdca26"
             ],
             [
              1,
              "#f0f921"
             ]
            ],
            "type": "heatmapgl"
           }
          ],
          "histogram": [
           {
            "marker": {
             "pattern": {
              "fillmode": "overlay",
              "size": 10,
              "solidity": 0.2
             }
            },
            "type": "histogram"
           }
          ],
          "histogram2d": [
           {
            "colorbar": {
             "outlinewidth": 0,
             "ticks": ""
            },
            "colorscale": [
             [
              0,
              "#0d0887"
             ],
             [
              0.1111111111111111,
              "#46039f"
             ],
             [
              0.2222222222222222,
              "#7201a8"
             ],
             [
              0.3333333333333333,
              "#9c179e"
             ],
             [
              0.4444444444444444,
              "#bd3786"
             ],
             [
              0.5555555555555556,
              "#d8576b"
             ],
             [
              0.6666666666666666,
              "#ed7953"
             ],
             [
              0.7777777777777778,
              "#fb9f3a"
             ],
             [
              0.8888888888888888,
              "#fdca26"
             ],
             [
              1,
              "#f0f921"
             ]
            ],
            "type": "histogram2d"
           }
          ],
          "histogram2dcontour": [
           {
            "colorbar": {
             "outlinewidth": 0,
             "ticks": ""
            },
            "colorscale": [
             [
              0,
              "#0d0887"
             ],
             [
              0.1111111111111111,
              "#46039f"
             ],
             [
              0.2222222222222222,
              "#7201a8"
             ],
             [
              0.3333333333333333,
              "#9c179e"
             ],
             [
              0.4444444444444444,
              "#bd3786"
             ],
             [
              0.5555555555555556,
              "#d8576b"
             ],
             [
              0.6666666666666666,
              "#ed7953"
             ],
             [
              0.7777777777777778,
              "#fb9f3a"
             ],
             [
              0.8888888888888888,
              "#fdca26"
             ],
             [
              1,
              "#f0f921"
             ]
            ],
            "type": "histogram2dcontour"
           }
          ],
          "mesh3d": [
           {
            "colorbar": {
             "outlinewidth": 0,
             "ticks": ""
            },
            "type": "mesh3d"
           }
          ],
          "parcoords": [
           {
            "line": {
             "colorbar": {
              "outlinewidth": 0,
              "ticks": ""
             }
            },
            "type": "parcoords"
           }
          ],
          "pie": [
           {
            "automargin": true,
            "type": "pie"
           }
          ],
          "scatter": [
           {
            "fillpattern": {
             "fillmode": "overlay",
             "size": 10,
             "solidity": 0.2
            },
            "type": "scatter"
           }
          ],
          "scatter3d": [
           {
            "line": {
             "colorbar": {
              "outlinewidth": 0,
              "ticks": ""
             }
            },
            "marker": {
             "colorbar": {
              "outlinewidth": 0,
              "ticks": ""
             }
            },
            "type": "scatter3d"
           }
          ],
          "scattercarpet": [
           {
            "marker": {
             "colorbar": {
              "outlinewidth": 0,
              "ticks": ""
             }
            },
            "type": "scattercarpet"
           }
          ],
          "scattergeo": [
           {
            "marker": {
             "colorbar": {
              "outlinewidth": 0,
              "ticks": ""
             }
            },
            "type": "scattergeo"
           }
          ],
          "scattergl": [
           {
            "marker": {
             "colorbar": {
              "outlinewidth": 0,
              "ticks": ""
             }
            },
            "type": "scattergl"
           }
          ],
          "scattermapbox": [
           {
            "marker": {
             "colorbar": {
              "outlinewidth": 0,
              "ticks": ""
             }
            },
            "type": "scattermapbox"
           }
          ],
          "scatterpolar": [
           {
            "marker": {
             "colorbar": {
              "outlinewidth": 0,
              "ticks": ""
             }
            },
            "type": "scatterpolar"
           }
          ],
          "scatterpolargl": [
           {
            "marker": {
             "colorbar": {
              "outlinewidth": 0,
              "ticks": ""
             }
            },
            "type": "scatterpolargl"
           }
          ],
          "scatterternary": [
           {
            "marker": {
             "colorbar": {
              "outlinewidth": 0,
              "ticks": ""
             }
            },
            "type": "scatterternary"
           }
          ],
          "surface": [
           {
            "colorbar": {
             "outlinewidth": 0,
             "ticks": ""
            },
            "colorscale": [
             [
              0,
              "#0d0887"
             ],
             [
              0.1111111111111111,
              "#46039f"
             ],
             [
              0.2222222222222222,
              "#7201a8"
             ],
             [
              0.3333333333333333,
              "#9c179e"
             ],
             [
              0.4444444444444444,
              "#bd3786"
             ],
             [
              0.5555555555555556,
              "#d8576b"
             ],
             [
              0.6666666666666666,
              "#ed7953"
             ],
             [
              0.7777777777777778,
              "#fb9f3a"
             ],
             [
              0.8888888888888888,
              "#fdca26"
             ],
             [
              1,
              "#f0f921"
             ]
            ],
            "type": "surface"
           }
          ],
          "table": [
           {
            "cells": {
             "fill": {
              "color": "#EBF0F8"
             },
             "line": {
              "color": "white"
             }
            },
            "header": {
             "fill": {
              "color": "#C8D4E3"
             },
             "line": {
              "color": "white"
             }
            },
            "type": "table"
           }
          ]
         },
         "layout": {
          "annotationdefaults": {
           "arrowcolor": "#2a3f5f",
           "arrowhead": 0,
           "arrowwidth": 1
          },
          "autotypenumbers": "strict",
          "coloraxis": {
           "colorbar": {
            "outlinewidth": 0,
            "ticks": ""
           }
          },
          "colorscale": {
           "diverging": [
            [
             0,
             "#8e0152"
            ],
            [
             0.1,
             "#c51b7d"
            ],
            [
             0.2,
             "#de77ae"
            ],
            [
             0.3,
             "#f1b6da"
            ],
            [
             0.4,
             "#fde0ef"
            ],
            [
             0.5,
             "#f7f7f7"
            ],
            [
             0.6,
             "#e6f5d0"
            ],
            [
             0.7,
             "#b8e186"
            ],
            [
             0.8,
             "#7fbc41"
            ],
            [
             0.9,
             "#4d9221"
            ],
            [
             1,
             "#276419"
            ]
           ],
           "sequential": [
            [
             0,
             "#0d0887"
            ],
            [
             0.1111111111111111,
             "#46039f"
            ],
            [
             0.2222222222222222,
             "#7201a8"
            ],
            [
             0.3333333333333333,
             "#9c179e"
            ],
            [
             0.4444444444444444,
             "#bd3786"
            ],
            [
             0.5555555555555556,
             "#d8576b"
            ],
            [
             0.6666666666666666,
             "#ed7953"
            ],
            [
             0.7777777777777778,
             "#fb9f3a"
            ],
            [
             0.8888888888888888,
             "#fdca26"
            ],
            [
             1,
             "#f0f921"
            ]
           ],
           "sequentialminus": [
            [
             0,
             "#0d0887"
            ],
            [
             0.1111111111111111,
             "#46039f"
            ],
            [
             0.2222222222222222,
             "#7201a8"
            ],
            [
             0.3333333333333333,
             "#9c179e"
            ],
            [
             0.4444444444444444,
             "#bd3786"
            ],
            [
             0.5555555555555556,
             "#d8576b"
            ],
            [
             0.6666666666666666,
             "#ed7953"
            ],
            [
             0.7777777777777778,
             "#fb9f3a"
            ],
            [
             0.8888888888888888,
             "#fdca26"
            ],
            [
             1,
             "#f0f921"
            ]
           ]
          },
          "colorway": [
           "#636efa",
           "#EF553B",
           "#00cc96",
           "#ab63fa",
           "#FFA15A",
           "#19d3f3",
           "#FF6692",
           "#B6E880",
           "#FF97FF",
           "#FECB52"
          ],
          "font": {
           "color": "#2a3f5f"
          },
          "geo": {
           "bgcolor": "white",
           "lakecolor": "white",
           "landcolor": "white",
           "showlakes": true,
           "showland": true,
           "subunitcolor": "#C8D4E3"
          },
          "hoverlabel": {
           "align": "left"
          },
          "hovermode": "closest",
          "mapbox": {
           "style": "light"
          },
          "paper_bgcolor": "white",
          "plot_bgcolor": "white",
          "polar": {
           "angularaxis": {
            "gridcolor": "#EBF0F8",
            "linecolor": "#EBF0F8",
            "ticks": ""
           },
           "bgcolor": "white",
           "radialaxis": {
            "gridcolor": "#EBF0F8",
            "linecolor": "#EBF0F8",
            "ticks": ""
           }
          },
          "scene": {
           "xaxis": {
            "backgroundcolor": "white",
            "gridcolor": "#DFE8F3",
            "gridwidth": 2,
            "linecolor": "#EBF0F8",
            "showbackground": true,
            "ticks": "",
            "zerolinecolor": "#EBF0F8"
           },
           "yaxis": {
            "backgroundcolor": "white",
            "gridcolor": "#DFE8F3",
            "gridwidth": 2,
            "linecolor": "#EBF0F8",
            "showbackground": true,
            "ticks": "",
            "zerolinecolor": "#EBF0F8"
           },
           "zaxis": {
            "backgroundcolor": "white",
            "gridcolor": "#DFE8F3",
            "gridwidth": 2,
            "linecolor": "#EBF0F8",
            "showbackground": true,
            "ticks": "",
            "zerolinecolor": "#EBF0F8"
           }
          },
          "shapedefaults": {
           "line": {
            "color": "#2a3f5f"
           }
          },
          "ternary": {
           "aaxis": {
            "gridcolor": "#DFE8F3",
            "linecolor": "#A2B1C6",
            "ticks": ""
           },
           "baxis": {
            "gridcolor": "#DFE8F3",
            "linecolor": "#A2B1C6",
            "ticks": ""
           },
           "bgcolor": "white",
           "caxis": {
            "gridcolor": "#DFE8F3",
            "linecolor": "#A2B1C6",
            "ticks": ""
           }
          },
          "title": {
           "x": 0.05
          },
          "xaxis": {
           "automargin": true,
           "gridcolor": "#EBF0F8",
           "linecolor": "#EBF0F8",
           "ticks": "",
           "title": {
            "standoff": 15
           },
           "zerolinecolor": "#EBF0F8",
           "zerolinewidth": 2
          },
          "yaxis": {
           "automargin": true,
           "gridcolor": "#EBF0F8",
           "linecolor": "#EBF0F8",
           "ticks": "",
           "title": {
            "standoff": 15
           },
           "zerolinecolor": "#EBF0F8",
           "zerolinewidth": 2
          }
         }
        },
        "title": {
         "text": "Top 5 Kilometraje entre carrocerias "
        },
        "xaxis": {
         "anchor": "y",
         "domain": [
          0,
          1
         ],
         "tickmode": "linear",
         "title": {
          "text": "Carrocería"
         }
        },
        "yaxis": {
         "anchor": "x",
         "domain": [
          0,
          1
         ],
         "showgrid": false,
         "title": {
          "text": "Kilómetros"
         }
        }
       }
      }
     },
     "metadata": {},
     "output_type": "display_data"
    }
   ],
   "source": [
    "import plotly\n",
    "import plotly.express as px\n",
    "\n",
    "Carroceria_kilometros = df.groupby('Carrocería')['Kilómetros'].mean().nlargest(5)\n",
    "fig_state = px.line(\n",
    "        Carroceria_kilometros,\n",
    "        x=Carroceria_kilometros.index,\n",
    "        orientation=\"h\",\n",
    "        y=\"Kilómetros\",\n",
    "        title=\"Top 5 Kilometraje entre carrocerias \",\n",
    "        template=\"plotly_white\",\n",
    "        )\n",
    "fig_state.update_layout(    \n",
    "            xaxis=dict(tickmode=\"linear\"),\n",
    "            plot_bgcolor=\"rgba(0,0,0,0)\",\n",
    "            yaxis=(dict(showgrid=False)),\n",
    "        )"
   ]
  },
  {
   "cell_type": "code",
   "execution_count": 19,
   "metadata": {},
   "outputs": [
    {
     "data": {
      "text/plain": [
       "Marca          0\n",
       "Modelo         0\n",
       "Precio         0\n",
       "Año            0\n",
       "Combustible    0\n",
       "Distintivo     0\n",
       "Carrocería     0\n",
       "Kilómetros     0\n",
       "Cambio         0\n",
       "Potencia       0\n",
       "Extra          0\n",
       "Mes            0\n",
       "Serie          0\n",
       "Imagen         0\n",
       "Codigo         0\n",
       "dtype: int64"
      ]
     },
     "execution_count": 19,
     "metadata": {},
     "output_type": "execute_result"
    }
   ],
   "source": [
    "#Comprobamos que no haya nulos\n",
    "df.isna().sum()"
   ]
  },
  {
   "cell_type": "code",
   "execution_count": 20,
   "metadata": {},
   "outputs": [
    {
     "data": {
      "text/plain": [
       "Año\n",
       "2019    2713\n",
       "2022    2319\n",
       "2023    2218\n",
       "2020    1988\n",
       "2021    1889\n",
       "2018    1477\n",
       "2017    1008\n",
       "2016     722\n",
       "2015     509\n",
       "2024     332\n",
       "2014     282\n",
       "2013     195\n",
       "2012     171\n",
       "2011     124\n",
       "2010      99\n",
       "2007      87\n",
       "2008      71\n",
       "2009      71\n",
       "2006      55\n",
       "2005      30\n",
       "2004      18\n",
       "2003       9\n",
       "2000       6\n",
       "2001       5\n",
       "2002       5\n",
       "Name: count, dtype: int64"
      ]
     },
     "execution_count": 20,
     "metadata": {},
     "output_type": "execute_result"
    }
   ],
   "source": [
    "df[\"Año\"].value_counts()"
   ]
  },
  {
   "cell_type": "code",
   "execution_count": 22,
   "metadata": {},
   "outputs": [
    {
     "name": "stdout",
     "output_type": "stream",
     "text": [
      "209900\n",
      "1950\n"
     ]
    }
   ],
   "source": [
    "print(df[\"Precio\"].max())\n",
    "print(df[\"Precio\"].min())"
   ]
  }
 ],
 "metadata": {
  "kernelspec": {
   "display_name": "venv",
   "language": "python",
   "name": "python3"
  },
  "language_info": {
   "codemirror_mode": {
    "name": "ipython",
    "version": 3
   },
   "file_extension": ".py",
   "mimetype": "text/x-python",
   "name": "python",
   "nbconvert_exporter": "python",
   "pygments_lexer": "ipython3",
   "version": "3.10.11"
  }
 },
 "nbformat": 4,
 "nbformat_minor": 2
}
